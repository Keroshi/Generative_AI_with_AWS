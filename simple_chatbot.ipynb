{
 "cells": [
  {
   "cell_type": "code",
   "execution_count": null,
   "id": "initial_id",
   "metadata": {
    "collapsed": true
   },
   "outputs": [],
   "source": [
    "# Simple Customer Support Chatbot\n",
    "\n",
    "# Define dictionary with predefined responses\n",
    "responses = {\n",
    "    \"hi\": \"Hello! Welcome to TechGadget Support. How can I assist you today?\",\n",
    "    \"do you have smartwatches\": \"Yes, we have a variety of smartwatches. You can check them out on our products page.\",\n",
    "    \"shipping time\": \"Shipping usually takes 3-5 business days.\",\n",
    "    \"shipping methods\": \"We offer standard, expedited, and overnight shipping.\",\n",
    "    \"return policy\": \"You can return products within 30 days of receipt for a full refund.\",\n",
    "    \"how to return\": \"To return a product, please visit our returns page for a step-by-step guide.\",\n",
    "    \"won’t turn on\": \"Make sure your gadget is charged. If it still won’t turn on, you can visit our troubleshooting page.\",\n",
    "    \"reset device\": \"To reset your device, hold down the power button for 10 seconds. If that doesn't work, please check the manual for a factory reset.\",\n",
    "    \"bye\": \"Thank you for visiting TechGadget. If you have more questions, feel free to ask. Goodbye!\"\n",
    "}\n",
    "\n",
    "# Function to get the bot response\n",
    "def get_bot_response(user_input):\n",
    "    # Make the input lowercase to match the dictionary keys\n",
    "    user_input = user_input.lower()\n",
    "    # Return the matching response if it exists, otherwise return a default response\n",
    "    for keyword, response in responses.items():\n",
    "        if keyword in user_input:\n",
    "            return response\n",
    "\n",
    "# Main chat loop\n",
    "while True:\n",
    "    user_input = input(\"You: \")\n",
    "    if user_input.lower() in [\"quit\", \"exit\", \"bye\"]:\n",
    "        print(\"Bot: Goodbye! If you have any more questions, we're here to help.\")\n",
    "        break\n",
    "\n",
    "    response = get_bot_response(user_input)\n",
    "    print(f\"Bot: {response}\")\n",
    "# Enhance the dictionary with more responses to cover a wider range of common customer questions.\n",
    "# Improve the chatbot's ability to handle variations in how questions are asked.\n",
    "# Implement a feature where if a user says something the bot doesn't understand multiple times, it directs them to a human customer service representative."
   ]
  }
 ],
 "metadata": {
  "kernelspec": {
   "display_name": "Python 3",
   "language": "python",
   "name": "python3"
  },
  "language_info": {
   "codemirror_mode": {
    "name": "ipython",
    "version": 2
   },
   "file_extension": ".py",
   "mimetype": "text/x-python",
   "name": "python",
   "nbconvert_exporter": "python",
   "pygments_lexer": "ipython2",
   "version": "2.7.6"
  }
 },
 "nbformat": 4,
 "nbformat_minor": 5
}
